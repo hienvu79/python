{
  "nbformat": 4,
  "nbformat_minor": 0,
  "metadata": {
    "colab": {
      "name": "Untitled10.ipynb",
      "provenance": [],
      "collapsed_sections": []
    },
    "kernelspec": {
      "name": "python3",
      "display_name": "Python 3"
    }
  },
  "cells": [
    {
      "cell_type": "code",
      "metadata": {
        "id": "yDsoTjYVJNiC"
      },
      "source": [
        "import matplotlib.pylab as plt\n",
        "import numpy as np\n",
        "%matplotlib inline\n",
        "from sklearn.linear_model import LinearRegression\n",
        "from sklearn import datasets"
      ],
      "execution_count": 2,
      "outputs": []
    },
    {
      "cell_type": "markdown",
      "metadata": {
        "id": "X9cqrO8lJYDT"
      },
      "source": [
        "- Khai báo thư viện"
      ]
    },
    {
      "cell_type": "code",
      "metadata": {
        "id": "l8IilywZJwkm"
      },
      "source": [
        "diabetes = datasets.load_diabetes() # load data\n"
      ],
      "execution_count": 4,
      "outputs": []
    },
    {
      "cell_type": "markdown",
      "metadata": {
        "id": "uy5Vhy_cJyKp"
      },
      "source": [
        "- Load dữ liệu"
      ]
    },
    {
      "cell_type": "code",
      "metadata": {
        "colab": {
          "base_uri": "https://localhost:8080/"
        },
        "id": "o4wDv90UJ1qx",
        "outputId": "3031f6b4-33e6-46db-876f-deb957459aca"
      },
      "source": [
        "diabetes.data.shape"
      ],
      "execution_count": 5,
      "outputs": [
        {
          "output_type": "execute_result",
          "data": {
            "text/plain": [
              "(442, 10)"
            ]
          },
          "metadata": {
            "tags": []
          },
          "execution_count": 5
        }
      ]
    },
    {
      "cell_type": "code",
      "metadata": {
        "id": "rivEjOS4KK8a"
      },
      "source": [
        "- Tạo hình ma trận"
      ],
      "execution_count": null,
      "outputs": []
    },
    {
      "cell_type": "code",
      "metadata": {
        "colab": {
          "base_uri": "https://localhost:8080/"
        },
        "id": "fEmUk07LKPKh",
        "outputId": "062b44d1-76a8-47b7-fd49-47885185391f"
      },
      "source": [
        "diabetes.target.shape"
      ],
      "execution_count": 6,
      "outputs": [
        {
          "output_type": "execute_result",
          "data": {
            "text/plain": [
              "(442,)"
            ]
          },
          "metadata": {
            "tags": []
          },
          "execution_count": 6
        }
      ]
    },
    {
      "cell_type": "code",
      "metadata": {
        "id": "IDvb35l0Kb8y"
      },
      "source": [
        "- Ma trận vector"
      ],
      "execution_count": null,
      "outputs": []
    },
    {
      "cell_type": "code",
      "metadata": {
        "colab": {
          "base_uri": "https://localhost:8080/"
        },
        "id": "D4NHwl6bKg4h",
        "outputId": "e9aa0aaf-916f-46c8-b035-a74e8d0344da"
      },
      "source": [
        "diabetes.feature_names"
      ],
      "execution_count": 7,
      "outputs": [
        {
          "output_type": "execute_result",
          "data": {
            "text/plain": [
              "['age', 'sex', 'bmi', 'bp', 's1', 's2', 's3', 's4', 's5', 's6']"
            ]
          },
          "metadata": {
            "tags": []
          },
          "execution_count": 7
        }
      ]
    },
    {
      "cell_type": "code",
      "metadata": {
        "id": "MtUADf8rKkJJ"
      },
      "source": [
        "- Các cột tên"
      ],
      "execution_count": null,
      "outputs": []
    },
    {
      "cell_type": "code",
      "metadata": {
        "id": "P_UoMU0GKopi"
      },
      "source": [
        "from sklearn.model_selection import train_test_split\n",
        "X_train, X_test, y_train, y_test = train_test_split(diabetes.data, diabetes.target, test_size=0.2, random_state=0)"
      ],
      "execution_count": 8,
      "outputs": []
    },
    {
      "cell_type": "code",
      "metadata": {
        "id": "n5v5t1UIK3ux"
      },
      "source": [
        "- Tạo dữ liệu thử"
      ],
      "execution_count": null,
      "outputs": []
    },
    {
      "cell_type": "code",
      "metadata": {
        "id": "ROiW44BgK905"
      },
      "source": [
        "model = LinearRegression()"
      ],
      "execution_count": 9,
      "outputs": []
    },
    {
      "cell_type": "markdown",
      "metadata": {
        "id": "VXubizP5LAKX"
      },
      "source": [
        "- Thiết lập model"
      ]
    },
    {
      "cell_type": "code",
      "metadata": {
        "colab": {
          "base_uri": "https://localhost:8080/"
        },
        "id": "pKVQpPFGLDLT",
        "outputId": "cf966ebd-71e0-41da-eb3e-65c4f2de1421"
      },
      "source": [
        "model.fit(X_train, y_train)"
      ],
      "execution_count": 10,
      "outputs": [
        {
          "output_type": "execute_result",
          "data": {
            "text/plain": [
              "LinearRegression(copy_X=True, fit_intercept=True, n_jobs=None, normalize=False)"
            ]
          },
          "metadata": {
            "tags": []
          },
          "execution_count": 10
        }
      ]
    },
    {
      "cell_type": "code",
      "metadata": {
        "id": "-wX3S102LEvJ"
      },
      "source": [
        "- Sử dụng fit"
      ],
      "execution_count": null,
      "outputs": []
    },
    {
      "cell_type": "code",
      "metadata": {
        "colab": {
          "base_uri": "https://localhost:8080/"
        },
        "id": "A8fyk2FJLH8a",
        "outputId": "94d770ff-6a8d-42f9-e80a-75c8c5bac95f"
      },
      "source": [
        "model.score(X_test, y_test)"
      ],
      "execution_count": 11,
      "outputs": [
        {
          "output_type": "execute_result",
          "data": {
            "text/plain": [
              "0.33222203269065176"
            ]
          },
          "metadata": {
            "tags": []
          },
          "execution_count": 11
        }
      ]
    },
    {
      "cell_type": "code",
      "metadata": {
        "id": "YIKsQv0DLPnx"
      },
      "source": [
        "- Kiểm tra các điểm"
      ],
      "execution_count": null,
      "outputs": []
    },
    {
      "cell_type": "code",
      "metadata": {
        "colab": {
          "base_uri": "https://localhost:8080/"
        },
        "id": "oB5T0mjBLVfp",
        "outputId": "90a32eb3-e8b1-45c5-81b3-3dbb0d96c1eb"
      },
      "source": [
        "model.coef_"
      ],
      "execution_count": 12,
      "outputs": [
        {
          "output_type": "execute_result",
          "data": {
            "text/plain": [
              "array([ -35.55683674, -243.1692265 ,  562.75404632,  305.47203008,\n",
              "       -662.78772128,  324.27527477,   24.78193291,  170.33056502,\n",
              "        731.67810787,   43.02846824])"
            ]
          },
          "metadata": {
            "tags": []
          },
          "execution_count": 12
        }
      ]
    },
    {
      "cell_type": "code",
      "metadata": {
        "id": "sjlVCQKcLZmq"
      },
      "source": [
        "- Nhận các hệ số, beta"
      ],
      "execution_count": null,
      "outputs": []
    },
    {
      "cell_type": "code",
      "metadata": {
        "colab": {
          "base_uri": "https://localhost:8080/"
        },
        "id": "DMH63womLgOq",
        "outputId": "84757671-8242-4c84-ba0c-fe2f760593bb"
      },
      "source": [
        "model.intercept_"
      ],
      "execution_count": 13,
      "outputs": [
        {
          "output_type": "execute_result",
          "data": {
            "text/plain": [
              "152.5381335195406"
            ]
          },
          "metadata": {
            "tags": []
          },
          "execution_count": 13
        }
      ]
    },
    {
      "cell_type": "code",
      "metadata": {
        "id": "Iz4SeW_CLovW"
      },
      "source": [
        "- Nhận giao điểm, c"
      ],
      "execution_count": null,
      "outputs": []
    },
    {
      "cell_type": "code",
      "metadata": {
        "colab": {
          "base_uri": "https://localhost:8080/"
        },
        "id": "ghXC4-ycLu_u",
        "outputId": "be5da233-e5ff-44fb-f10b-28f2a38ff157"
      },
      "source": [
        "model.predict(X_test)"
      ],
      "execution_count": 14,
      "outputs": [
        {
          "output_type": "execute_result",
          "data": {
            "text/plain": [
              "array([238.47145247, 248.93170646, 164.05404165, 120.30794355,\n",
              "       187.42422054, 259.04865002, 113.55556372, 188.07597044,\n",
              "       149.49663441, 236.01099949, 172.24629506, 178.88073764,\n",
              "       109.15751983,  92.13508975, 243.33042043,  87.356971  ,\n",
              "       155.72606406,  66.99073989, 100.42610442, 218.09422877,\n",
              "       196.66287912, 161.29832968, 161.70779605, 156.52520454,\n",
              "       197.88796516, 167.57984206, 120.74478913,  84.83879727,\n",
              "       192.03728687, 160.60687024, 175.17178362,  84.22833237,\n",
              "       145.7995542 , 145.97333493, 140.96488953, 197.00421108,\n",
              "       165.94322494, 190.65906468, 128.22520508, 206.41941223,\n",
              "        84.35851196, 164.0256504 , 144.1056776 , 184.68355549,\n",
              "       177.80238966,  74.32855231, 143.3660286 , 138.67726085,\n",
              "       120.81146113, 234.34252077, 161.94390244,  74.5455476 ,\n",
              "       154.71905074, 156.78884927, 237.42227096, 174.23053048,\n",
              "       190.88212635, 118.98373473, 132.20418974, 168.52674824,\n",
              "       214.74245466, 171.42364091, 157.37409906, 108.86927343,\n",
              "       257.06329636, 152.17777143,  82.43686464, 231.56746032,\n",
              "       202.90641336,  47.18340199,  78.46954525, 129.30170908,\n",
              "       104.60253144, 144.65200281, 132.27974254, 190.04134164,\n",
              "        97.55541138, 197.51891007, 219.13709291, 186.13797012,\n",
              "       149.60913007, 208.42379455,  44.59036026, 206.20925368,\n",
              "        76.77377721,  94.94046865, 145.2955051 , 194.03776373,\n",
              "       132.78534336])"
            ]
          },
          "metadata": {
            "tags": []
          },
          "execution_count": 14
        }
      ]
    },
    {
      "cell_type": "markdown",
      "metadata": {
        "id": "8CzMwaXfL3jB"
      },
      "source": [
        "- Dự đoán dữ liệu không xác định\n"
      ]
    },
    {
      "cell_type": "code",
      "metadata": {
        "colab": {
          "base_uri": "https://localhost:8080/",
          "height": 282
        },
        "id": "ZRwHlb45L4zh",
        "outputId": "0e73388a-f37d-45b1-c8ab-7e22e498d2c2"
      },
      "source": [
        "y_pred = model.predict(X_test) \n",
        "plt.plot(y_test, y_pred, '.')"
      ],
      "execution_count": 16,
      "outputs": [
        {
          "output_type": "execute_result",
          "data": {
            "text/plain": [
              "[<matplotlib.lines.Line2D at 0x7fe854aaa048>]"
            ]
          },
          "metadata": {
            "tags": []
          },
          "execution_count": 16
        },
        {
          "output_type": "display_data",
          "data": {
            "image/png": "[encoded data removed]",
            "text/plain": [
              "<Figure size 432x288 with 1 Axes>"
            ]
          },
          "metadata": {
            "tags": [],
            "needs_background": "light"
          }
        }
      ]
    },
    {
      "cell_type": "markdown",
      "metadata": {
        "id": "ulIxCfNqMD6p"
      },
      "source": [
        "- Dự đoán đồ thị và dữ liệu thực tế"
      ]
    },
    {
      "cell_type": "code",
      "metadata": {
        "colab": {
          "base_uri": "https://localhost:8080/",
          "height": 265
        },
        "id": "cuUGaVScMS5i",
        "outputId": "d7ecd8e5-82a7-4769-a020-c76e2c6ab0af"
      },
      "source": [
        "x = np.linspace(0, 330, 100)\n",
        "y = x\n",
        "plt.plot(x, y)\n",
        "plt.show()"
      ],
      "execution_count": 17,
      "outputs": [
        {
          "output_type": "display_data",
          "data": {
            "image/png": "[encoded data removed]",
            "text/plain": [
              "<Figure size 432x288 with 1 Axes>"
            ]
          },
          "metadata": {
            "tags": [],
            "needs_background": "light"
          }
        }
      ]
    },
    {
      "cell_type": "code",
      "metadata": {
        "id": "pJbJEJYMMgSS"
      },
      "source": [
        "- Tạo đồ thị 1 đường, dự đoán sẽ hiển thị trên đường đó"
      ],
      "execution_count": null,
      "outputs": []
    }
  ]
}